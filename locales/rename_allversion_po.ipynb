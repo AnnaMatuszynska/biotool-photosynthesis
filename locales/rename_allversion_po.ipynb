{
 "cells": [
  {
   "cell_type": "code",
   "execution_count": 95,
   "metadata": {},
   "outputs": [],
   "source": [
    "from pathlib import Path\n",
    "import re"
   ]
  },
  {
   "cell_type": "code",
   "execution_count": 96,
   "metadata": {},
   "outputs": [],
   "source": [
    "FILEPATHS = [Path(\"../Start.py\")] + list(Path(\"..\").glob(\"pages/*.py\"))\n",
    "ALLVPATH = Path(\"allversion.po\")\n",
    "RENPATH = Path(\"allversion_renamed.po\")"
   ]
  },
  {
   "cell_type": "code",
   "execution_count": 97,
   "metadata": {},
   "outputs": [],
   "source": [
    "# Define the file abbreviations\n",
    "abbr = {\n",
    "    'Start.py' : \"STR\",\n",
    "    'conclusion.py': \"CON\",\n",
    "    'model_explain.py': \"MDL\",\n",
    "    '_sidebar.py': \"SDE\",\n",
    "    'first_analysis.py': \"FAL\",\n",
    "    'method.py': \"MTH\",\n",
    "    'contact.py': \"CON\",\n",
    "    'photosynthesis.py': \"PHO\",\n",
    "    'plant_memory.py': \"MEM\"\n",
    "}\n",
    "\n",
    "no_rep = [\n",
    "    \"LITERATURE\",\n",
    "    \"LITERATURE_ONPAGE\"\n",
    "]"
   ]
  },
  {
   "cell_type": "code",
   "execution_count": 98,
   "metadata": {},
   "outputs": [],
   "source": [
    "# Extract the text placeholders\n",
    "text_re = '(?<=text\\(\")[\\w]+(?=\"\\))|(?<=markdown_click\\(\")[\\w]+(?=\")'\n",
    "texts = {}\n",
    "\n",
    "for FILEPATH in FILEPATHS:\n",
    "    keys=[]\n",
    "    with open(FILEPATH, \"r\") as f:\n",
    "        # _RENPATH = FILEPATH.parent / (str(FILEPATH.stem) + \"_renamed\" + str(FILEPATH.suffix))\n",
    "        _RENPATH = FILEPATH\n",
    "        \n",
    "        lins = f.readlines()\n",
    "        _lins = lins.copy()\n",
    "\n",
    "        for i,lin in enumerate(lins):\n",
    "            _match = re.search(text_re, lin)\n",
    "            if _match:\n",
    "                for _mtch in re.finditer(text_re, lin):\n",
    "                    if _mtch not in no_rep:\n",
    "                        _new = abbr[FILEPATH.name] + \"_\" + _mtch.group(0)\n",
    "                        _lins[i] = re.sub(_mtch.group(0), _new,_lins[i])\n",
    "\n",
    "                        keys += [_mtch.group(0)]\n",
    "\n",
    "    if len(keys) >0:\n",
    "        texts[FILEPATH.name] = keys\n",
    "\n",
    "        with open(_RENPATH, \"w\") as f:\n",
    "            f.writelines(_lins)"
   ]
  },
  {
   "cell_type": "code",
   "execution_count": 100,
   "metadata": {},
   "outputs": [],
   "source": [
    "# with open(RENPATH, \"w\") as ren:\n",
    "with open(ALLVPATH, \"r\") as alv:\n",
    "    lins = alv.readlines()\n",
    "    _lins = lins.copy()\n",
    "    for i, lin in enumerate(lins):\n",
    "        if re.search(\"msgid\", lin):\n",
    "            for nam, plcs in texts.items():\n",
    "                for plc in plcs:\n",
    "                    if re.search(plc, lin):\n",
    "                        _lins[i] = re.sub(plc, abbr[nam] + \"_\" + plc, lin)\n",
    "                        break\n",
    "                    \n",
    "with open(ALLVPATH, \"w\") as f:\n",
    "    f.writelines(_lins)       \n",
    "                "
   ]
  }
 ],
 "metadata": {
  "kernelspec": {
   "display_name": "synechocystis-etc-2022",
   "language": "python",
   "name": "python3"
  },
  "language_info": {
   "codemirror_mode": {
    "name": "ipython",
    "version": 3
   },
   "file_extension": ".py",
   "mimetype": "text/x-python",
   "name": "python",
   "nbconvert_exporter": "python",
   "pygments_lexer": "ipython3",
   "version": "3.11.0"
  }
 },
 "nbformat": 4,
 "nbformat_minor": 2
}
