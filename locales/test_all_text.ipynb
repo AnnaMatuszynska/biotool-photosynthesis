{
 "cells": [
  {
   "cell_type": "code",
   "execution_count": 35,
   "metadata": {},
   "outputs": [],
   "source": [
    "import re\n",
    "import numpy as np\n",
    "from pathlib import Path\n",
    "from warnings import warn\n",
    "from collections import defaultdict"
   ]
  },
  {
   "cell_type": "code",
   "execution_count": 189,
   "metadata": {},
   "outputs": [],
   "source": [
    "import glob\n",
    "pos = glob.glob(\"./*/*/LC_MESSAGES/main.po\")\n",
    "versions = [re.sub(\"\\./(\\w+)/(\\w+)/.*\", \"\\g<1>-\\g<2>\", x) for x in pos]"
   ]
  },
  {
   "cell_type": "code",
   "execution_count": 236,
   "metadata": {},
   "outputs": [],
   "source": [
    "def _get_header_and_version(po):\n",
    "    # Extract the header\n",
    "    header_end = np.where(np.array([bool(re.match(\"# TEXT VERSIONS\\n\", x)) for x in po]))[0][0]\n",
    "    header = po[0:header_end]\n",
    "    po = po[header_end:]\n",
    "\n",
    "    # Extract the versions\n",
    "    version_end = np.where(np.invert([bool(re.match(\"^#\", x)) for x in po]))[0][0]\n",
    "    versions = [x.removeprefix(\"# \").removesuffix(\"\\n\") for x in po[1:version_end]]\n",
    "    po = po[version_end:]\n",
    "    return header, versions, po\n",
    "\n",
    "def split_allversion_po(file):\n",
    "    with open(file, \"r\") as f:\n",
    "        po = f.readlines()\n",
    "        \n",
    "        # Extract header and versions\n",
    "        header, versions, po = _get_header_and_version(po)\n",
    "\n",
    "        # Split the different version texts\n",
    "        texts = {}\n",
    "        ns = {}\n",
    "\n",
    "        for version in versions:\n",
    "            _po = np.array(po, dtype=str)\n",
    "            ns[version] = np.sum([bool(re.search(f\"^{version}\\s+msgstr\", x)) for x in _po])\n",
    "            _po = np.array([re.sub(f\"^{version}\\s+msgstr\", \"msgstr\", x) for x in _po])\n",
    "\n",
    "            # Get the lines that should be deleted\n",
    "            # Lines may be broken and extended by \"\\\"\n",
    "            others = np.array([bool(re.search(f\"(?<!{version})\\s+msgstr\", x)) for x in _po])\n",
    "            breaks = np.array([bool(re.search(\"\\\\\\s*$\", x)) for x in _po])\n",
    "            extended = np.logical_and(others, breaks)\n",
    "\n",
    "            # if version == \"advanced-en\":\n",
    "            if any(extended):\n",
    "                for i in np.where(extended)[0]:\n",
    "                    for j in range(i, len(_po)-i):\n",
    "                        if breaks[j]:\n",
    "                            others[j+1] = True\n",
    "                        else:\n",
    "                            break\n",
    "\n",
    "            texts[version] = header + list(_po[np.invert(others)])\n",
    "    ns_val = np.array(list(ns.values()))\n",
    "    if np.any(ns_val < ns_val.max()):\n",
    "        warn(f\"fewer replacements in version(s) {np.array(list(ns.keys()))[ns_val < ns_val.max()]}\")\n",
    "\n",
    "    return texts\n",
    "\n",
    "def save_split_po(pos, locales_dir=\".\"):\n",
    "    for nam, text in pos.items():\n",
    "        vers, lang = nam.split(\"-\")\n",
    "        path = Path(locales_dir) / vers / lang / \"LC_Messages\" / \"main.po\"\n",
    "        with open(path, \"w\") as f:\n",
    "            f.writelines(text)\n",
    "\n",
    "def _default_entry():\n",
    "    return {\"header\": None}\n",
    "\n",
    "def read_single_po(file, version=\"\", entries=None, add_header=False, verbose=False):\n",
    "    if entries is None:\n",
    "        entries = defaultdict(_default_entry)\n",
    "\n",
    "    with open(file, \"r\") as f:\n",
    "        po = f.readlines()\n",
    "\n",
    "        # Get the msgids\n",
    "        ids = np.where(np.array([bool(re.match(f\"^msgid\", x)) for x in po]))[0]\n",
    "\n",
    "        for id in ids:\n",
    "            # Get the msgid string\n",
    "            nam = re.sub(\"^msgid\\s*[\\\"\\'](.*)[\\\"\\']\\s*\\n\", \"\\g<1>\", po[id])\n",
    "            if nam in [\"\",\"\\n\"]:\n",
    "                continue\n",
    "            else:\n",
    "                if entries[nam][\"header\"] is None:\n",
    "                    entries[nam][\"header\"] = [po[id-1]]\n",
    "                elif po[id-1] in entries[nam][\"header\"]:\n",
    "                    pass\n",
    "                else:\n",
    "                    if verbose:\n",
    "                        warn(f\"multiple headers for entry {nam}\")\n",
    "                    entries[nam][\"header\"] += [po[id-1]]\n",
    "\n",
    "                # Check if the next line has the right structure\n",
    "                if not re.search(\"^msgstr\", po[id+1]):\n",
    "                    raise ValueError(fr\"the msgstr following msgid '{nam}' in line {id} has the wrong format\")\n",
    "                entries[nam][version] = re.sub(\"^msgstr\\s*[\\\"\\'](.*)[\\\"\\']\\s*\\n\", \"\\g<1>\", po[id+1])\n",
    "                for i in range(1,len(po)-id):\n",
    "                    if re.search(\"\\\\\\s*$\", po[id+i]):\n",
    "                        entries[nam][version] += po[id+i+1] + \"\\n\"\n",
    "                    else:\n",
    "                        break\n",
    "        versions = entries.get(\"_versions_\",[])\n",
    "        if version not in versions:\n",
    "            entries[\"_versions_\"] = list(entries.get(\"_versions_\",[]) + [version])\n",
    "    return entries\n",
    "\n",
    "def make_allversion_po(po, versions=None):\n",
    "    if versions is None:\n",
    "        versions = po[\"_versions_\"]\n",
    "\n",
    "    text = \"\"\n",
    "    for nam, items in po.items():\n",
    "        if nam in [\"_versions_\"]:\n",
    "            continue\n",
    "        else:\n",
    "            try:\n",
    "                items[\"header\"]\n",
    "            except:\n",
    "                print(nam)\n",
    "            text += \"\".join(items[\"header\"]) + f'msgid \"{nam}\"\\n'\n",
    "            for vers in versions:\n",
    "                text += f'{vers} msgstr \"{items.get(vers, \"\")}\"\\n'\n",
    "            text += \"\\n\"\n",
    "    return text\n",
    "\n",
    "def write_allversion_po(po, path = Path(\"allversion.po\"), versions=None):\n",
    "    text = make_allversion_po(po, versions)\n",
    "    with open(path, \"w\") as f:\n",
    "        f.write(text)"
   ]
  },
  {
   "cell_type": "code",
   "execution_count": 225,
   "metadata": {},
   "outputs": [
    {
     "ename": "ValueError",
     "evalue": "the msgstr following msgid 'LITERATURE_DECLARATION' in line 25 has the wrong format",
     "output_type": "error",
     "traceback": [
      "\u001b[0;31m---------------------------------------------------------------------------\u001b[0m",
      "\u001b[0;31mValueError\u001b[0m                                Traceback (most recent call last)",
      "Cell \u001b[0;32mIn[225], line 1\u001b[0m\n\u001b[0;32m----> 1\u001b[0m po \u001b[39m=\u001b[39m read_single_po(\u001b[39m\"\u001b[39;49m\u001b[39msimple/en/LC_MESSAGES/main.po\u001b[39;49m\u001b[39m\"\u001b[39;49m, \u001b[39m\"\u001b[39;49m\u001b[39msimple-en\u001b[39;49m\u001b[39m\"\u001b[39;49m)\n\u001b[1;32m      2\u001b[0m po \u001b[39m=\u001b[39m read_single_po(\u001b[39m\"\u001b[39m\u001b[39msimple/de/LC_MESSAGES/main.po\u001b[39m\u001b[39m\"\u001b[39m, \u001b[39m\"\u001b[39m\u001b[39msimple-de\u001b[39m\u001b[39m\"\u001b[39m, entries\u001b[39m=\u001b[39mpo, verbose\u001b[39m=\u001b[39m\u001b[39mFalse\u001b[39;00m)\n\u001b[1;32m      3\u001b[0m write_allversion_po(po)\n",
      "Cell \u001b[0;32mIn[224], line 87\u001b[0m, in \u001b[0;36mread_single_po\u001b[0;34m(file, version, entries, add_header, verbose)\u001b[0m\n\u001b[1;32m     85\u001b[0m \u001b[39m# Check if the next line has the right structure\u001b[39;00m\n\u001b[1;32m     86\u001b[0m \u001b[39mif\u001b[39;00m \u001b[39mnot\u001b[39;00m re\u001b[39m.\u001b[39msearch(\u001b[39m\"\u001b[39m\u001b[39m^msgstr\u001b[39m\u001b[39m\"\u001b[39m, po[\u001b[39mid\u001b[39m\u001b[39m+\u001b[39m\u001b[39m1\u001b[39m]):\n\u001b[0;32m---> 87\u001b[0m     \u001b[39mraise\u001b[39;00m \u001b[39mValueError\u001b[39;00m(\u001b[39mfr\u001b[39m\u001b[39m\"\u001b[39m\u001b[39mthe msgstr following msgid \u001b[39m\u001b[39m'\u001b[39m\u001b[39m{\u001b[39;00mnam\u001b[39m}\u001b[39;00m\u001b[39m'\u001b[39m\u001b[39m in line \u001b[39m\u001b[39m{\u001b[39;00m\u001b[39mid\u001b[39m\u001b[39m}\u001b[39;00m\u001b[39m has the wrong format\u001b[39m\u001b[39m\"\u001b[39m)\n\u001b[1;32m     88\u001b[0m entries[nam][version] \u001b[39m=\u001b[39m re\u001b[39m.\u001b[39msub(\u001b[39m\"\u001b[39m\u001b[39m^msgstr\u001b[39m\u001b[39m\\\u001b[39m\u001b[39ms*[\u001b[39m\u001b[39m\\\"\u001b[39;00m\u001b[39m\\'\u001b[39;00m\u001b[39m](.*)[\u001b[39m\u001b[39m\\\"\u001b[39;00m\u001b[39m\\'\u001b[39;00m\u001b[39m]\u001b[39m\u001b[39m\\\u001b[39m\u001b[39ms*\u001b[39m\u001b[39m\\n\u001b[39;00m\u001b[39m\"\u001b[39m, \u001b[39m\"\u001b[39m\u001b[39m\\\u001b[39m\u001b[39mg<1>\u001b[39m\u001b[39m\"\u001b[39m, po[\u001b[39mid\u001b[39m\u001b[39m+\u001b[39m\u001b[39m1\u001b[39m])\n\u001b[1;32m     89\u001b[0m \u001b[39mfor\u001b[39;00m i \u001b[39min\u001b[39;00m \u001b[39mrange\u001b[39m(\u001b[39m1\u001b[39m,\u001b[39mlen\u001b[39m(po)\u001b[39m-\u001b[39m\u001b[39mid\u001b[39m):\n",
      "\u001b[0;31mValueError\u001b[0m: the msgstr following msgid 'LITERATURE_DECLARATION' in line 25 has the wrong format"
     ]
    }
   ],
   "source": [
    "po = read_single_po(\"simple/en/LC_MESSAGES/main.po\", \"simple-en\")\n",
    "po = read_single_po(\"simple/de/LC_MESSAGES/main.po\", \"simple-de\", entries=po, verbose=False)\n",
    "write_allversion_po(po)"
   ]
  },
  {
   "cell_type": "code",
   "execution_count": 237,
   "metadata": {},
   "outputs": [],
   "source": [
    "po = split_allversion_po(\"allversion.po\")"
   ]
  },
  {
   "cell_type": "code",
   "execution_count": 238,
   "metadata": {},
   "outputs": [
    {
     "data": {
      "text/plain": [
       "['#: pages/1 Messmethode.py:49\\n',\n",
       " 'msgid \"LITERATURE\"\\n',\n",
       " 'msgstr \"Literature\"\\n',\n",
       " '\\n',\n",
       " '#: pages/1 Messmethode.py:50\\n',\n",
       " 'msgid \"LITERATURE_DECLARATION\"\\n',\n",
       " 'msgstr \"The following literature provides more in-depth information on the subject of PAM measurements, or offers the opportunity to familiarize oneself with the basics.\"\\n',\n",
       " '\\n',\n",
       " '\"\\n',\n",
       " '\\n',\n",
       " '\"\\n',\n",
       " '\\n',\n",
       " '\"\\n',\n",
       " '\\n',\n",
       " '\\n',\n",
       " 'msgid \"CAPTION_PAM\"\\n',\n",
       " 'msgstr \"Schematic representation of the main principles behind chlorophyll a fluorescence and PAM experiment.\"\\n',\n",
       " '\\n',\n",
       " '#: EINFÜHRUNG.py:36\\n',\n",
       " 'msgid \"HEADLINE_PRODUCENTEN\"\\n']"
      ]
     },
     "execution_count": 238,
     "metadata": {},
     "output_type": "execute_result"
    }
   ],
   "source": [
    "po[\"advanced-en\"][20:40]"
   ]
  },
  {
   "cell_type": "code",
   "execution_count": 217,
   "metadata": {},
   "outputs": [
    {
     "data": {
      "text/plain": [
       "True"
      ]
     },
     "execution_count": 217,
     "metadata": {},
     "output_type": "execute_result"
    }
   ],
   "source": [
    "np.logical_and(*po)"
   ]
  },
  {
   "cell_type": "code",
   "execution_count": 203,
   "metadata": {},
   "outputs": [],
   "source": [
    "write_allversion_po(po)"
   ]
  },
  {
   "cell_type": "code",
   "execution_count": null,
   "metadata": {},
   "outputs": [],
   "source": []
  }
 ],
 "metadata": {
  "kernelspec": {
   "display_name": "synechocystis-etc-2022",
   "language": "python",
   "name": "python3"
  },
  "language_info": {
   "codemirror_mode": {
    "name": "ipython",
    "version": 3
   },
   "file_extension": ".py",
   "mimetype": "text/x-python",
   "name": "python",
   "nbconvert_exporter": "python",
   "pygments_lexer": "ipython3",
   "version": "3.11.0"
  },
  "orig_nbformat": 4
 },
 "nbformat": 4,
 "nbformat_minor": 2
}
