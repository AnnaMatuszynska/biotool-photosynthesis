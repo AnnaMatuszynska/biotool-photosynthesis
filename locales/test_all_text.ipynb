{
 "cells": [
  {
   "cell_type": "code",
   "execution_count": 35,
   "metadata": {},
   "outputs": [],
   "source": [
    "import re\n",
    "import numpy as np\n",
    "from pathlib import Path\n",
    "from warnings import warn\n",
    "from collections import defaultdict"
   ]
  },
  {
   "cell_type": "code",
   "execution_count": 189,
   "metadata": {},
   "outputs": [],
   "source": [
    "import glob\n",
    "pos = glob.glob(\"./*/*/LC_MESSAGES/main.po\")\n",
    "versions = [re.sub(\"\\./(\\w+)/(\\w+)/.*\", \"\\g<1>-\\g<2>\", x) for x in pos]"
   ]
  },
  {
   "cell_type": "code",
   "execution_count": 504,
   "metadata": {},
   "outputs": [],
   "source": [
    "def _get_header_and_version(po):\n",
    "    # Extract the header\n",
    "    header_end = np.where(np.array([bool(re.match(\"# TEXT VERSIONS\\n\", x)) for x in po]))[0][0]\n",
    "    header = po[0:header_end]\n",
    "    po = po[header_end:]\n",
    "\n",
    "    # Extract the versions\n",
    "    version_end = np.where(np.invert([bool(re.match(\"^#\", x)) for x in po]))[0][0]\n",
    "    versions = [x.removeprefix(\"# \").removesuffix(\"\\n\") for x in po[1:version_end]]\n",
    "    po = po[version_end:]\n",
    "    return header, versions, po\n",
    "\n",
    "def split_allversion_po(file):\n",
    "    with open(file, \"r\") as f:\n",
    "        po = f.readlines()\n",
    "        \n",
    "        # Extract header and versions\n",
    "        header, versions, po = _get_header_and_version(po)\n",
    "\n",
    "        # Split the different version texts\n",
    "        texts = {}\n",
    "        ns = {}\n",
    "        for version in versions:\n",
    "            _po = np.array(po, dtype=str)\n",
    "            ns[version] = np.sum([bool(re.search(f\"^{version}\\s+msgstr\", x)) for x in _po])\n",
    "            _po = np.array([re.sub(f\"^{version}\\s+msgstr\", \"msgstr\", x) for x in _po])\n",
    "\n",
    "            # Get the lines that should be deleted\n",
    "            # Lines may be broken and extended by \"\\\"\n",
    "            others = np.array([bool(re.search(f\"(?<!{version})\\s+msgstr\", x)) for x in _po])\n",
    "            breaks = np.array([bool(re.search(\"\\\\\\\\\\s*\\n$|\\\\\\\\n\\s*[\\'\\\"]$\", x)) for x in _po])\n",
    "            extended = np.logical_and(others, breaks)\n",
    "\n",
    "            if any(extended):\n",
    "                for i in np.where(extended)[0]:\n",
    "                    for j in range(i, len(_po)):\n",
    "                        if breaks[j]:\n",
    "                            others[j+1] = True\n",
    "                        else:\n",
    "                            break            \n",
    "\n",
    "            texts[version] = header + list(_po[np.invert(others)])\n",
    "    ns_val = np.array(list(ns.values()))\n",
    "    if np.any(ns_val < ns_val.max()):\n",
    "        warn(f\"fewer replacements in version(s) {np.array(list(ns.keys()))[ns_val < ns_val.max()]}\")\n",
    "\n",
    "    return texts\n",
    "\n",
    "def save_split_po(pos, locales_dir=\".\"):\n",
    "    for nam, text in pos.items():\n",
    "        vers, lang = nam.split(\"-\")\n",
    "        path = Path(locales_dir) / vers / lang / \"LC_MESSAGES\" / \"main.po\"\n",
    "        with open(path, \"w\") as f:\n",
    "            f.writelines(text)\n",
    "\n",
    "def _default_entry():\n",
    "    return {\"header\": None}\n",
    "\n",
    "def read_single_po(file, version=\"\", entries=None, add_header=False, verbose=False):\n",
    "    if entries is None:\n",
    "        entries = defaultdict(_default_entry)\n",
    "\n",
    "    with open(file, \"r\") as f:\n",
    "        po = f.readlines()\n",
    "\n",
    "        # Get the msgids\n",
    "        ids = np.where(np.array([bool(re.match(f\"^msgid\", x)) for x in po]))[0]\n",
    "\n",
    "        for id in ids:\n",
    "            # Get the msgid string\n",
    "            nam = re.sub(\"^msgid\\s*[\\\"\\'](.*)[\\\"\\']\\s*\\n\", \"\\g<1>\", po[id])\n",
    "            if nam in [\"\",\"\\n\"]:\n",
    "                continue\n",
    "            else:\n",
    "                if entries[nam][\"header\"] is None:\n",
    "                    entries[nam][\"header\"] = [po[id-1]]\n",
    "                elif po[id-1] in entries[nam][\"header\"]:\n",
    "                    pass\n",
    "                else:\n",
    "                    if verbose:\n",
    "                        warn(f\"multiple headers for entry {nam}\")\n",
    "                    entries[nam][\"header\"] += [po[id-1]]\n",
    "\n",
    "                # Check if the next line has the right structure\n",
    "                if not re.search(\"^msgstr\", po[id+1]):\n",
    "                    raise ValueError(fr\"the msgstr following msgid '{nam}' in line {id} has the wrong format\")\n",
    "\n",
    "                # Remove the prefix and, if it is not multiline, the suffix\n",
    "                string = re.sub(\"^msgstr\\s*[\\\"\\']\", \"\", po[id+1])\n",
    "                if not re.search(\"\\\\\\\\n\\s*[\\'\\\"]$\", po[id+1]):\n",
    "                    string = re.sub(\"[\\\"\\']?\\s*\\n$\",\"\", string)\n",
    "                entries[nam][version] = string\n",
    "\n",
    "                for i in range(1,len(po)-id):\n",
    "                    if re.search(\"\\\\\\\\\\s*\\n$\", po[id+i]):\n",
    "                        if i == 1:\n",
    "                            entries[nam][version] += \"\\n\"\n",
    "                        entries[nam][version] += re.sub('[\\'\\\"][\\s\\n]*$',\"\", po[id+i+1])\n",
    "                    elif re.search(\"\\\\\\\\n\\s*[\\'\\\"]$\", po[id+i]):\n",
    "                        string = po[id+i+1]\n",
    "                        if not re.search(\"\\\\\\\\n\\s*[\\'\\\"]$\", string):\n",
    "                            string = re.sub('[\\'\\\"][\\s\\n]*$',\"\", string)\n",
    "                        entries[nam][version] += string\n",
    "                    else:\n",
    "                        break\n",
    "        versions = entries.get(\"_versions_\",[])\n",
    "        if version not in versions:\n",
    "            entries[\"_versions_\"] = list(entries.get(\"_versions_\",[]) + [version])\n",
    "    return entries\n",
    "\n",
    "def make_allversion_po(po, versions=None):\n",
    "    if versions is None:\n",
    "        versions = po[\"_versions_\"]\n",
    "\n",
    "    text = \"\\n\\n\\n# TEXT VERSIONS\\n\" + \"# \" + \"\\n# \".join(versions) + \"\\n\\n\"\n",
    "    for nam, items in po.items():\n",
    "        if nam in [\"_versions_\"]:\n",
    "            continue\n",
    "        else:\n",
    "            text += \"\".join(items[\"header\"]) + f'msgid \"{nam}\"\\n'\n",
    "            for vers in versions:\n",
    "                text += f'{vers} msgstr \"{items.get(vers, \"\")}\"\\n'\n",
    "            text += \"\\n\"\n",
    "    return text\n",
    "\n",
    "def write_allversion_po(po, path = Path(\"allversion.po\"), versions=None):\n",
    "    text = make_allversion_po(po, versions)\n",
    "    with open(path, \"w\") as f:\n",
    "        f.write(text)"
   ]
  },
  {
   "cell_type": "code",
   "execution_count": 503,
   "metadata": {},
   "outputs": [],
   "source": [
    "po = read_single_po(\"simple/en/LC_MESSAGES/main.po\", \"simple-en\")\n",
    "# po = read_single_po(\"simple/de/LC_MESSAGES/main.po\", \"simple-de\", entries=po, verbose=False)\n",
    "# write_allversion_po(po)"
   ]
  },
  {
   "cell_type": "code",
   "execution_count": 476,
   "metadata": {},
   "outputs": [
    {
     "name": "stdout",
     "output_type": "stream",
     "text": [
      "dies, including:\\n\"\n",
      "\n",
      "<re.Match object; span=(249, 251), match='\"\\n'>\n"
     ]
    }
   ],
   "source": [
    "with open(\"simple/en/LC_MESSAGES/main.po\", \"r\") as f:\n",
    "    po = f.readlines()\n",
    "    print(po[208][-20:])\n",
    "    print(re.search(\"[\\\"\\']?\\s*\\n$\", po[208]))"
   ]
  },
  {
   "cell_type": "code",
   "execution_count": 505,
   "metadata": {},
   "outputs": [],
   "source": [
    "po = split_allversion_po(\"allversion.po\")"
   ]
  },
  {
   "cell_type": "code",
   "execution_count": 508,
   "metadata": {},
   "outputs": [
    {
     "data": {
      "text/plain": [
       "['msgstr \"A photograph of a plant of the wild type of the model organism **Arabidopsis thaliana**.\"\\n',\n",
       " '\\n',\n",
       " '#: pages/photosynthesis.py:87\\n',\n",
       " 'msgid \"EXPANDER_MODEL_ORGANISM_EXPLANATION\"\\n',\n",
       " 'msgstr \"<em>Arabidopsis</em> (<em>Arabidopsis thaliana</em>) is referred to as a model organism because it is often used as a model system in plant biology. It has several characteristics that make it well suited for laboratory studies, including:\\\\n\"\\n',\n",
       " '\"1. Small size and fast life cycle: <em>Arabidopsis thaliana</em> has a short life cycle that allows researchers to study multiple generations in a relatively short period of time.\\\\n\"\\n',\n",
       " '\"2. Simple anatomy: The structure of the plant is simple and well-understood, making it easier for researchers to study specific developmental processes.\\\\n\"\\n',\n",
       " '\"3. Genome sequencing: The complete genome of <em>Arabidopsis thaliana</em> was the first plant genome to be sequenced, which has provided researchers with a wealth of genetic information about the plant.\\\\n\"\\n',\n",
       " '\"4. Genetic and molecular tools: A large collection of genetic and molecular tools are available for <em>Arabidopsis thaliana</em>, which enables researchers to study plant development, growth, and stress responses at the cellular and molecular levels. \\\\n\"\\n',\n",
       " '\"\\\\nAll these factors have made <em>Arabidopsis thaliana</em> an important model organism for studying basic plant biology, and its insights have contributed to our understanding of the biology of all plants.\"\\n',\n",
       " '\\n',\n",
       " '#: pages/method.py:10\\n',\n",
       " '#: pages/1 Messmethode.py:30\\n',\n",
       " 'msgid \"HEADLINE_ONE\"\\n',\n",
       " 'msgstr \"# Measuring photosynthesis\"\\n',\n",
       " '\\n',\n",
       " '#: pages/method.py:15\\n',\n",
       " '#: Explanation by Tobias\\n',\n",
       " 'msgid \"INTRODUCTION_MEASUREMENT\"\\n',\n",
       " 'msgstr \"On the previous page, you learned about the importance of photosynthesis and how it works. But how do we know how **photosynthetically active** an organism is? On this page you will learn how can we measure the dynamics of photosynthesis in real time using light (precisely fluorescence) measuring devices. As biology is continously becoming a more quantitative science, obviously numerous methods to probe photosynthesis exist. For example, as plants produce oxygen and take up carbon dioxide, photosynthesis can be measured by how fast these gasses are produced or consumed. However, metering gasses can be tricky, especially if you want to do it outside on a tree or in a field. Therefore a particularly important characteristic of photosynthetic organisms is essential in providing alternative methods of measuring photosynthesis *in vivo*!\"\\n',\n",
       " '\\n',\n",
       " '#: pages/method.py:18\\n',\n",
       " '#: EINFÜHRUNG.py:36\\n',\n",
       " 'msgid \"CAPTION_ABB1\"\\n',\n",
       " 'msgstr \"Photo of a plant of a plant (_Spathiphyllum_): On the left in daylight, in the middle illuminated by a commercial UV5 lamp, on the right also illuminated by a UV5 lamp, but through a filter which filters all wavelengths except for the red light.\"\\n',\n",
       " '\\n',\n",
       " '#: pages/method.py:20\\n',\n",
       " '#: Explanation by Tobias\\n',\n",
       " 'msgid \"GROWING_PLANTS_1\"\\n',\n",
       " 'msgstr \"Plant shine!\"\\n']"
      ]
     },
     "execution_count": 508,
     "metadata": {},
     "output_type": "execute_result"
    }
   ],
   "source": [
    "po[\"simple-en\"][230:260]"
   ]
  },
  {
   "cell_type": "code",
   "execution_count": 217,
   "metadata": {},
   "outputs": [
    {
     "data": {
      "text/plain": [
       "True"
      ]
     },
     "execution_count": 217,
     "metadata": {},
     "output_type": "execute_result"
    }
   ],
   "source": [
    "np.logical_and(*po)"
   ]
  },
  {
   "cell_type": "code",
   "execution_count": 203,
   "metadata": {},
   "outputs": [],
   "source": [
    "write_allversion_po(po)"
   ]
  },
  {
   "cell_type": "code",
   "execution_count": null,
   "metadata": {},
   "outputs": [],
   "source": []
  }
 ],
 "metadata": {
  "kernelspec": {
   "display_name": "synechocystis-etc-2022",
   "language": "python",
   "name": "python3"
  },
  "language_info": {
   "codemirror_mode": {
    "name": "ipython",
    "version": 3
   },
   "file_extension": ".py",
   "mimetype": "text/x-python",
   "name": "python",
   "nbconvert_exporter": "python",
   "pygments_lexer": "ipython3",
   "version": "3.11.0"
  },
  "orig_nbformat": 4
 },
 "nbformat": 4,
 "nbformat_minor": 2
}
