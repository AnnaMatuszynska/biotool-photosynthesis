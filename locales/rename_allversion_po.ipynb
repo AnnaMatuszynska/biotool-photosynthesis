{
 "cells": [
  {
   "cell_type": "code",
   "execution_count": 311,
   "metadata": {},
   "outputs": [],
   "source": [
    "from pathlib import Path\n",
    "import re\n",
    "import numpy as np\n",
    "from collections import Counter\n",
    "import pandas as pd"
   ]
  },
  {
   "cell_type": "code",
   "execution_count": 312,
   "metadata": {},
   "outputs": [],
   "source": [
    "FILEPATHS = [Path(\"../Start.py\")] + list(Path(\"..\").glob(\"pages/*.py\"))\n",
    "ALLVPATH = Path(\"allversion.po\")\n",
    "RENPATH = Path(\"allversion_renamed.po\")"
   ]
  },
  {
   "cell_type": "code",
   "execution_count": 313,
   "metadata": {},
   "outputs": [],
   "source": [
    "# Define the file abbreviations\n",
    "abbr = {\n",
    "    '_sidebar.py': \"SDE\",\n",
    "    'Start.py' : \"STR\",\n",
    "    'photosynthesis.py': \"PHO\",\n",
    "    'method.py': \"MTH\",\n",
    "    'model_explain.py': \"MDL\",\n",
    "    'first_analysis.py': \"FAL\",\n",
    "    'plant_memory.py': \"MEM\",\n",
    "    'conclusion.py': \"CON\",\n",
    "    'contact.py': \"COT\",\n",
    "}\n",
    "\n",
    "no_rep = [\n",
    "    'LITERATURE_ONPAGE',\n",
    "    'LITERATURE',\n",
    "    'AXIS_NPQ',\n",
    "    'AXIS_PHIPSII',\n",
    "    'AXIS_TIME_MIN',\n",
    "    'SLIDER_LIGHT',\n",
    "    'SLIDER_DEACTIVATION',\n",
    "    'SLIDER_PULSES',\n",
    "    'FLUO',\n",
    "    'SPINNER',\n",
    "    'SLIDER_ACTIVATION',\n",
    "    'AXIS_TIME_S'\n",
    "]"
   ]
  },
  {
   "cell_type": "code",
   "execution_count": 314,
   "metadata": {},
   "outputs": [],
   "source": [
    "# Extract the text placeholders\n",
    "rewrite = False\n",
    "\n",
    "text_re = '(?<=text\\(\")[\\w]+(?=\"\\))|(?<=markdown_click\\(\")[\\w]+(?=\")'\n",
    "texts = {}\n",
    "texts_nr = []\n",
    "all_texts = []\n",
    "pos = {}\n",
    "\n",
    "for FILEPATH in FILEPATHS:\n",
    "    keys=[]\n",
    "    _keys=[]\n",
    "    keys_nr=[]\n",
    "    with open(FILEPATH, \"r\") as f:\n",
    "        # _RENPATH = FILEPATH.parent / (str(FILEPATH.stem) + \"_renamed\" + str(FILEPATH.suffix))\n",
    "        _RENPATH = FILEPATH\n",
    "        \n",
    "        lins = f.readlines()\n",
    "        _lins = lins.copy()\n",
    "\n",
    "        for i,lin in enumerate(lins):\n",
    "            _match = re.search(text_re, lin)\n",
    "            if _match:\n",
    "                for _mtch in re.finditer(text_re, lin):\n",
    "                    if _mtch.group(0) not in no_rep:\n",
    "                        _new = abbr[FILEPATH.name] + \"_\" + _mtch.group(0)\n",
    "                        _lins[i] = re.sub(_mtch.group(0), _new,_lins[i])\n",
    "\n",
    "                        keys += [_mtch.group(0)]\n",
    "                    else:\n",
    "                        _keys += [_mtch.group(0)]\n",
    "                    # Add instance of found key to the positions\n",
    "                    pos.setdefault(_mtch.group(0), []).append(f\"#: {str(FILEPATH.relative_to('..'))}:{i+1}\\n\")\n",
    "\n",
    "    if len(keys) >0:\n",
    "        texts[FILEPATH.name] = list(set(keys))\n",
    "        texts_nr += list(set(_keys))\n",
    "        all_texts += list(set(keys)) + list(set(_keys))\n",
    "\n",
    "        if rewrite:\n",
    "            with open(_RENPATH, \"w\") as f:\n",
    "                f.writelines(_lins)\n",
    "\n",
    "texts_nr = list(set(texts_nr))\n",
    "\n",
    "for k,v in pos.items():\n",
    "    pos[k] = sorted(list(set(v)))"
   ]
  },
  {
   "cell_type": "code",
   "execution_count": 315,
   "metadata": {},
   "outputs": [
    {
     "data": {
      "text/plain": [
       "Index(['PROGRAMS_USED', 'LITERATURE_ONPAGE', 'LITERATURE', 'AXIS_TIME_MIN',\n",
       "       'SLIDER_LIGHT', 'SLIDER_DEACTIVATION', 'AXIS_NPQ', 'AXIS_PHIPSII',\n",
       "       'SLIDER_PULSES', 'FLUO', 'SPINNER', 'SLIDER_ACTIVATION', 'AXIS_TIME_S'],\n",
       "      dtype='object')"
      ]
     },
     "execution_count": 315,
     "metadata": {},
     "output_type": "execute_result"
    }
   ],
   "source": [
    "# Find Placeholders with multiple occurrences\n",
    "all_texts_strp = [re.sub(\"|\".join([f\"^{x}_\" for x in abbr.values()]), \"\", txt) for txt in all_texts]\n",
    "all_texts_strp_cnt = pd.Series(Counter(all_texts_strp))\n",
    "all_texts_strp_cnt[all_texts_strp_cnt>1].index"
   ]
  },
  {
   "cell_type": "code",
   "execution_count": 316,
   "metadata": {},
   "outputs": [],
   "source": [
    "rewrite = True\n",
    "line_references = True\n",
    "add_placeholder_abbr = False\n",
    "\n",
    "ctr = 0\n",
    "with open(ALLVPATH, \"r\") as alv:\n",
    "    lins = alv.readlines()\n",
    "    _lins = lins.copy()\n",
    "    for i, lin in enumerate(lins):\n",
    "        if re.search(\"msgid\", lin):\n",
    "            for nam, plcs in texts.items():\n",
    "                for plc in plcs:\n",
    "                    if re.search('\"'+plc+'\"', lin):\n",
    "                        if add_placeholder_abbr:\n",
    "                            _lins[i+ctr] = re.sub(plc, abbr[nam] + \"_\" + plc, lin)\n",
    "                        if line_references:\n",
    "                            _lins[i+ctr:i+ctr] = pos[plc]\n",
    "                            ctr += len(pos[plc])\n",
    "            if line_references:\n",
    "                for plc in texts_nr:\n",
    "                    if re.search('\"'+plc+'\"', lin):\n",
    "                        _lins[i+ctr:i+ctr] = pos[plc]\n",
    "                        ctr += len(pos[plc])\n",
    "\n",
    "\n",
    "if rewrite:                \n",
    "    with open(ALLVPATH, \"w\") as f:\n",
    "        f.writelines(_lins)       \n",
    "                "
   ]
  }
 ],
 "metadata": {
  "kernelspec": {
   "display_name": "synechocystis-etc-2022",
   "language": "python",
   "name": "python3"
  },
  "language_info": {
   "codemirror_mode": {
    "name": "ipython",
    "version": 3
   },
   "file_extension": ".py",
   "mimetype": "text/x-python",
   "name": "python",
   "nbconvert_exporter": "python",
   "pygments_lexer": "ipython3",
   "version": "3.11.0"
  }
 },
 "nbformat": 4,
 "nbformat_minor": 2
}
