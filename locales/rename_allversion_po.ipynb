{
 "cells": [
  {
   "cell_type": "code",
   "execution_count": 133,
   "metadata": {},
   "outputs": [],
   "source": [
    "from pathlib import Path\n",
    "import re"
   ]
  },
  {
   "cell_type": "code",
   "execution_count": 134,
   "metadata": {},
   "outputs": [],
   "source": [
    "FILEPATHS = [Path(\"../Start.py\")] + list(Path(\"..\").glob(\"pages/*.py\"))\n",
    "ALLVPATH = Path(\"allversion.po\")\n",
    "RENPATH = Path(\"allversion_renamed.po\")"
   ]
  },
  {
   "cell_type": "code",
   "execution_count": 135,
   "metadata": {},
   "outputs": [],
   "source": [
    "# Define the file abbreviations\n",
    "abbr = {\n",
    "    'Start.py' : \"STR\",\n",
    "    'conclusion.py': \"CON\",\n",
    "    'model_explain.py': \"MDL\",\n",
    "    '_sidebar.py': \"SDE\",\n",
    "    'first_analysis.py': \"FAL\",\n",
    "    'method.py': \"MTH\",\n",
    "    'contact.py': \"CON\",\n",
    "    'photosynthesis.py': \"PHO\",\n",
    "    'plant_memory.py': \"MEM\"\n",
    "}\n",
    "\n",
    "no_rep = [\n",
    "    \"LITERATURE\",\n",
    "    \"LITERATURE_ONPAGE\",\n",
    "    \"SLIDER_LIGHT\",\n",
    "    \"SLIDER_PULSES\",\n",
    "    \"PROGRAMS_USED\",\n",
    "    \"SLIDER_ACTIVATION\"\n",
    "]"
   ]
  },
  {
   "cell_type": "code",
   "execution_count": 136,
   "metadata": {},
   "outputs": [],
   "source": [
    "# Extract the text placeholders\n",
    "text_re = '(?<=text\\(\")[\\w]+(?=\"\\))|(?<=markdown_click\\(\")[\\w]+(?=\")'\n",
    "texts = {}\n",
    "\n",
    "for FILEPATH in FILEPATHS:\n",
    "    keys=[]\n",
    "    with open(FILEPATH, \"r\") as f:\n",
    "        # _RENPATH = FILEPATH.parent / (str(FILEPATH.stem) + \"_renamed\" + str(FILEPATH.suffix))\n",
    "        _RENPATH = FILEPATH\n",
    "        \n",
    "        lins = f.readlines()\n",
    "        _lins = lins.copy()\n",
    "\n",
    "        for i,lin in enumerate(lins):\n",
    "            _match = re.search(text_re, lin)\n",
    "            if _match:\n",
    "                for _mtch in re.finditer(text_re, lin):\n",
    "                    if _mtch.group(0) not in no_rep:\n",
    "                        _new = abbr[FILEPATH.name] + \"_\" + _mtch.group(0)\n",
    "                        _lins[i] = re.sub(_mtch.group(0), _new,_lins[i])\n",
    "\n",
    "                        keys += [_mtch.group(0)]\n",
    "\n",
    "    if len(keys) >0:\n",
    "        texts[FILEPATH.name] = keys\n",
    "\n",
    "        with open(_RENPATH, \"w\") as f:\n",
    "            f.writelines(_lins)"
   ]
  },
  {
   "cell_type": "code",
   "execution_count": 137,
   "metadata": {},
   "outputs": [
    {
     "name": "stdout",
     "output_type": "stream",
     "text": [
      "LITERATURE_DECLARATION msgid \"LITERATURE_DECLARATION\"\n",
      " method.py\n"
     ]
    }
   ],
   "source": [
    "# with open(RENPATH, \"w\") as ren:\n",
    "with open(ALLVPATH, \"r\") as alv:\n",
    "    lins = alv.readlines()\n",
    "    _lins = lins.copy()\n",
    "    for i, lin in enumerate(lins):\n",
    "        if re.search(\"msgid\", lin):\n",
    "            for nam, plcs in texts.items():\n",
    "                for plc in plcs:\n",
    "                    if re.search('\"'+plc+'\"', lin):\n",
    "                        if i == 121:\n",
    "                            print(plc, lin, nam)\n",
    "                        _lins[i] = re.sub(plc, abbr[nam] + \"_\" + plc, lin)\n",
    "                        break\n",
    "                    \n",
    "with open(ALLVPATH, \"w\") as f:\n",
    "    f.writelines(_lins)       \n",
    "                "
   ]
  },
  {
   "cell_type": "code",
   "execution_count": 130,
   "metadata": {},
   "outputs": [
    {
     "ename": "KeyError",
     "evalue": "'LITERATURE_DECLARATION'",
     "output_type": "error",
     "traceback": [
      "\u001b[0;31m---------------------------------------------------------------------------\u001b[0m",
      "\u001b[0;31mKeyError\u001b[0m                                  Traceback (most recent call last)",
      "\u001b[1;32m/home/tobias/University/cloned_projects/biotool-photosynthesis/locales/rename_allversion_po.ipynb Cell 6\u001b[0m line \u001b[0;36m1\n\u001b[0;32m----> <a href='vscode-notebook-cell:/home/tobias/University/cloned_projects/biotool-photosynthesis/locales/rename_allversion_po.ipynb#X31sZmlsZQ%3D%3D?line=0'>1</a>\u001b[0m texts[\u001b[39m\"\u001b[39;49m\u001b[39mLITERATURE_DECLARATION\u001b[39;49m\u001b[39m\"\u001b[39;49m]\n",
      "\u001b[0;31mKeyError\u001b[0m: 'LITERATURE_DECLARATION'"
     ]
    }
   ],
   "source": [
    "texts[\"LITERATURE_DECLARATION\"]"
   ]
  },
  {
   "cell_type": "code",
   "execution_count": null,
   "metadata": {},
   "outputs": [],
   "source": []
  }
 ],
 "metadata": {
  "kernelspec": {
   "display_name": "synechocystis-etc-2022",
   "language": "python",
   "name": "python3"
  },
  "language_info": {
   "codemirror_mode": {
    "name": "ipython",
    "version": 3
   },
   "file_extension": ".py",
   "mimetype": "text/x-python",
   "name": "python",
   "nbconvert_exporter": "python",
   "pygments_lexer": "ipython3",
   "version": "3.11.0"
  }
 },
 "nbformat": 4,
 "nbformat_minor": 2
}
